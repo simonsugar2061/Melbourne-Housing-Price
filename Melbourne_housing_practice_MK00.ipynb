{
 "cells": [
  {
   "cell_type": "code",
   "execution_count": 17,
   "metadata": {},
   "outputs": [],
   "source": [
    "%matplotlib inline\n",
    "import matplotlib.pyplot as plt\n",
    "import numpy as np\n",
    "import plotly.plotly as py\n",
    "\n",
    "import pandas as pd"
   ]
  },
  {
   "cell_type": "code",
   "execution_count": 18,
   "metadata": {},
   "outputs": [
    {
     "data": {
      "text/html": [
       "<div>\n",
       "<style scoped>\n",
       "    .dataframe tbody tr th:only-of-type {\n",
       "        vertical-align: middle;\n",
       "    }\n",
       "\n",
       "    .dataframe tbody tr th {\n",
       "        vertical-align: top;\n",
       "    }\n",
       "\n",
       "    .dataframe thead th {\n",
       "        text-align: right;\n",
       "    }\n",
       "</style>\n",
       "<table border=\"1\" class=\"dataframe\">\n",
       "  <thead>\n",
       "    <tr style=\"text-align: right;\">\n",
       "      <th></th>\n",
       "      <th>Suburb</th>\n",
       "      <th>Address</th>\n",
       "      <th>Rooms</th>\n",
       "      <th>Type</th>\n",
       "      <th>Price</th>\n",
       "      <th>Method</th>\n",
       "      <th>SellerG</th>\n",
       "      <th>Date</th>\n",
       "      <th>Distance</th>\n",
       "      <th>Week</th>\n",
       "      <th>CPI</th>\n",
       "      <th>LastCPI</th>\n",
       "      <th>Distance2</th>\n",
       "    </tr>\n",
       "  </thead>\n",
       "  <tbody>\n",
       "    <tr>\n",
       "      <th>0</th>\n",
       "      <td>Footscray</td>\n",
       "      <td>202/51 Gordon St</td>\n",
       "      <td>1</td>\n",
       "      <td>u</td>\n",
       "      <td>85000</td>\n",
       "      <td>PI</td>\n",
       "      <td>Burnham</td>\n",
       "      <td>3/09/2016</td>\n",
       "      <td>6.4</td>\n",
       "      <td>32</td>\n",
       "      <td>108.6</td>\n",
       "      <td>108.2</td>\n",
       "      <td>8.1</td>\n",
       "    </tr>\n",
       "    <tr>\n",
       "      <th>1</th>\n",
       "      <td>Caulfield</td>\n",
       "      <td>30 Pyne St</td>\n",
       "      <td>4</td>\n",
       "      <td>h</td>\n",
       "      <td>131000</td>\n",
       "      <td>PI</td>\n",
       "      <td>Rodney</td>\n",
       "      <td>25/02/2017</td>\n",
       "      <td>8.9</td>\n",
       "      <td>57</td>\n",
       "      <td>109.4</td>\n",
       "      <td>108.6</td>\n",
       "      <td>12.8</td>\n",
       "    </tr>\n",
       "    <tr>\n",
       "      <th>2</th>\n",
       "      <td>Coburg</td>\n",
       "      <td>171 Moreland Rd</td>\n",
       "      <td>4</td>\n",
       "      <td>h</td>\n",
       "      <td>145000</td>\n",
       "      <td>PI</td>\n",
       "      <td>Jellis</td>\n",
       "      <td>4/06/2016</td>\n",
       "      <td>7.8</td>\n",
       "      <td>19</td>\n",
       "      <td>108.2</td>\n",
       "      <td>108.4</td>\n",
       "      <td>6.8</td>\n",
       "    </tr>\n",
       "    <tr>\n",
       "      <th>3</th>\n",
       "      <td>Albion</td>\n",
       "      <td>8/6 Ridley St</td>\n",
       "      <td>1</td>\n",
       "      <td>u</td>\n",
       "      <td>145000</td>\n",
       "      <td>PI</td>\n",
       "      <td>Biggin</td>\n",
       "      <td>28/05/2016</td>\n",
       "      <td>13.9</td>\n",
       "      <td>18</td>\n",
       "      <td>108.2</td>\n",
       "      <td>108.4</td>\n",
       "      <td>14.4</td>\n",
       "    </tr>\n",
       "    <tr>\n",
       "      <th>4</th>\n",
       "      <td>Albion</td>\n",
       "      <td>10/117 Anderson Rd</td>\n",
       "      <td>1</td>\n",
       "      <td>u</td>\n",
       "      <td>185000</td>\n",
       "      <td>S</td>\n",
       "      <td>hockingstuart</td>\n",
       "      <td>22/08/2016</td>\n",
       "      <td>13.9</td>\n",
       "      <td>30</td>\n",
       "      <td>108.6</td>\n",
       "      <td>108.2</td>\n",
       "      <td>14.1</td>\n",
       "    </tr>\n",
       "  </tbody>\n",
       "</table>\n",
       "</div>"
      ],
      "text/plain": [
       "      Suburb             Address  Rooms Type   Price Method        SellerG  \\\n",
       "0  Footscray    202/51 Gordon St      1    u   85000     PI        Burnham   \n",
       "1  Caulfield          30 Pyne St      4    h  131000     PI         Rodney   \n",
       "2     Coburg     171 Moreland Rd      4    h  145000     PI         Jellis   \n",
       "3     Albion       8/6 Ridley St      1    u  145000     PI         Biggin   \n",
       "4     Albion  10/117 Anderson Rd      1    u  185000      S  hockingstuart   \n",
       "\n",
       "         Date  Distance  Week    CPI  LastCPI  Distance2  \n",
       "0   3/09/2016       6.4    32  108.6    108.2        8.1  \n",
       "1  25/02/2017       8.9    57  109.4    108.6       12.8  \n",
       "2   4/06/2016       7.8    19  108.2    108.4        6.8  \n",
       "3  28/05/2016      13.9    18  108.2    108.4       14.4  \n",
       "4  22/08/2016      13.9    30  108.6    108.2       14.1  "
      ]
     },
     "execution_count": 18,
     "metadata": {},
     "output_type": "execute_result"
    }
   ],
   "source": [
    "data = pd.read_csv('Melbourne_housing.csv')\n",
    "data.head()"
   ]
  },
  {
   "cell_type": "code",
   "execution_count": 19,
   "metadata": {
    "scrolled": true
   },
   "outputs": [
    {
     "data": {
      "text/plain": [
       "0      2016-03-09\n",
       "1      2017-02-25\n",
       "2      2016-04-06\n",
       "3      2016-05-28\n",
       "4      2016-08-22\n",
       "5      2016-07-30\n",
       "6      2016-07-30\n",
       "7      2016-08-13\n",
       "8      2016-06-08\n",
       "9      2016-05-22\n",
       "10     2016-04-02\n",
       "11     2016-09-24\n",
       "12     2016-09-24\n",
       "13     2016-11-27\n",
       "14     2017-04-03\n",
       "15     2016-08-28\n",
       "16     2016-11-27\n",
       "17     2016-07-30\n",
       "18     2016-08-28\n",
       "19     2016-07-26\n",
       "20     2016-08-28\n",
       "21     2017-11-02\n",
       "22     2016-05-22\n",
       "23     2016-08-28\n",
       "24     2016-10-09\n",
       "25     2016-06-27\n",
       "26     2016-04-16\n",
       "27     2016-12-11\n",
       "28     2016-04-02\n",
       "29     2017-02-25\n",
       "          ...    \n",
       "9352   2016-10-15\n",
       "9353   2016-05-28\n",
       "9354   2016-08-22\n",
       "9355   2016-03-12\n",
       "9356   2016-07-26\n",
       "9357   2016-12-11\n",
       "9358   2016-05-14\n",
       "9359   2016-11-19\n",
       "9360   2017-02-25\n",
       "9361   2016-11-27\n",
       "9362   2016-03-09\n",
       "9363   2016-10-12\n",
       "9364   2016-12-11\n",
       "9365   2016-08-28\n",
       "9366   2016-07-30\n",
       "9367   2016-05-28\n",
       "9368   2016-06-18\n",
       "9369   2016-10-12\n",
       "9370   2016-11-19\n",
       "9371   2017-02-25\n",
       "9372   2016-03-12\n",
       "9373   2016-05-28\n",
       "9374   2016-06-27\n",
       "9375   2016-03-12\n",
       "9376   2017-04-03\n",
       "9377   2016-09-17\n",
       "9378   2016-12-11\n",
       "9379   2016-03-09\n",
       "9380   2016-10-15\n",
       "9381   2016-08-13\n",
       "Name: Date, Length: 9382, dtype: datetime64[ns]"
      ]
     },
     "execution_count": 19,
     "metadata": {},
     "output_type": "execute_result"
    }
   ],
   "source": [
    "pd.to_datetime(data['Date'], errors='ignore')"
   ]
  },
  {
   "cell_type": "code",
   "execution_count": 20,
   "metadata": {
    "scrolled": true
   },
   "outputs": [],
   "source": [
    "lst_suburb = data['Suburb'].unique().tolist()\n",
    "lst_avg_price = []\n",
    "\n",
    "for suburb in lst_suburb:\n",
    "    avg_price = data[data['Suburb'] == suburb]['Price'].astype('int').mean()\n",
    "    lst_avg_price.append(avg_price)"
   ]
  },
  {
   "cell_type": "code",
   "execution_count": 21,
   "metadata": {},
   "outputs": [
    {
     "data": {
      "image/png": "[encoded data removed]",
      "text/plain": [
       "<matplotlib.figure.Figure at 0xb0fb710>"
      ]
     },
     "metadata": {},
     "output_type": "display_data"
    }
   ],
   "source": [
    "fix, ax = plt.subplots()\n",
    "ax.barh(lst_suburb[0:4], lst_avg_price[0:4])\n",
    "plt.show()"
   ]
  },
  {
   "cell_type": "code",
   "execution_count": 22,
   "metadata": {},
   "outputs": [],
   "source": [
    "df_suburb = pd.DataFrame.from_dict({'Suburb': lst_suburb, 'Avg_price': lst_avg_price})"
   ]
  },
  {
   "cell_type": "code",
   "execution_count": 23,
   "metadata": {},
   "outputs": [
    {
     "data": {
      "text/html": [
       "<div>\n",
       "<style scoped>\n",
       "    .dataframe tbody tr th:only-of-type {\n",
       "        vertical-align: middle;\n",
       "    }\n",
       "\n",
       "    .dataframe tbody tr th {\n",
       "        vertical-align: top;\n",
       "    }\n",
       "\n",
       "    .dataframe thead th {\n",
       "        text-align: right;\n",
       "    }\n",
       "</style>\n",
       "<table border=\"1\" class=\"dataframe\">\n",
       "  <thead>\n",
       "    <tr style=\"text-align: right;\">\n",
       "      <th></th>\n",
       "      <th>Avg_price</th>\n",
       "      <th>Suburb</th>\n",
       "    </tr>\n",
       "  </thead>\n",
       "  <tbody>\n",
       "    <tr>\n",
       "      <th>135</th>\n",
       "      <td>2.163816e+06</td>\n",
       "      <td>Canterbury</td>\n",
       "    </tr>\n",
       "    <tr>\n",
       "      <th>105</th>\n",
       "      <td>1.945939e+06</td>\n",
       "      <td>Malvern</td>\n",
       "    </tr>\n",
       "    <tr>\n",
       "      <th>90</th>\n",
       "      <td>1.885904e+06</td>\n",
       "      <td>Balwyn</td>\n",
       "    </tr>\n",
       "    <tr>\n",
       "      <th>117</th>\n",
       "      <td>1.867226e+06</td>\n",
       "      <td>Albert Park</td>\n",
       "    </tr>\n",
       "    <tr>\n",
       "      <th>81</th>\n",
       "      <td>1.841850e+06</td>\n",
       "      <td>Brighton</td>\n",
       "    </tr>\n",
       "  </tbody>\n",
       "</table>\n",
       "</div>"
      ],
      "text/plain": [
       "        Avg_price       Suburb\n",
       "135  2.163816e+06   Canterbury\n",
       "105  1.945939e+06      Malvern\n",
       "90   1.885904e+06       Balwyn\n",
       "117  1.867226e+06  Albert Park\n",
       "81   1.841850e+06     Brighton"
      ]
     },
     "execution_count": 23,
     "metadata": {},
     "output_type": "execute_result"
    }
   ],
   "source": [
    "df_suburb.sort_values(by = 'Avg_price', ascending = 0).head()"
   ]
  },
  {
   "cell_type": "code",
   "execution_count": 25,
   "metadata": {},
   "outputs": [],
   "source": [
    "df_suburb.sort_values(by = 'Avg_price', ascending = 0)[0:5].to_json('Melbourne_housing_avg_pricing.json', orient = 'records')"
   ]
  }
 ],
 "metadata": {
  "kernelspec": {
   "display_name": "Python 3",
   "language": "python",
   "name": "python3"
  },
  "language_info": {
   "codemirror_mode": {
    "name": "ipython",
    "version": 3
   },
   "file_extension": ".py",
   "mimetype": "text/x-python",
   "name": "python",
   "nbconvert_exporter": "python",
   "pygments_lexer": "ipython3",
   "version": "3.6.4"
  }
 },
 "nbformat": 4,
 "nbformat_minor": 2
}
